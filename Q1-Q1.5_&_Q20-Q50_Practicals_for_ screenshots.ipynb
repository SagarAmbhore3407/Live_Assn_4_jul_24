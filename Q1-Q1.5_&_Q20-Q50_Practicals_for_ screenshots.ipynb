{
 "cells": [
  {
   "cell_type": "code",
   "execution_count": 4,
   "metadata": {},
   "outputs": [
    {
     "name": "stdout",
     "output_type": "stream",
     "text": [
      "Passed Value : 20.. Static variable value: 1\n",
      "Passed Value : 40.. Static variable value: 2\n",
      "Passed Value : 40.. Static variable value: 3\n"
     ]
    }
   ],
   "source": [
    "#Question 1.1: Write the Answer to these questions. \n",
    "\n",
    "#1.What is the difference between static and dynamic variables in Python.\n",
    "\n",
    "\n",
    "class MyClass:\n",
    "    \n",
    "    # Static variable\n",
    "    static_var = 0\n",
    "    \n",
    "    def __init__(self, value):\n",
    "        self.value = value  \n",
    "        MyClass.static_var+=1\n",
    "        \n",
    "    def display(self):\n",
    "        print(f\"Passed Value : {self.value}.. Static variable value: {MyClass.static_var}\")\n",
    "        \n",
    "        \n",
    "obj1 = MyClass(20) \n",
    "obj1.display()  \n",
    "\n",
    "obj2 = MyClass(40) \n",
    "obj2.display()       \n",
    "\n",
    "obj2 = MyClass(40) \n",
    "obj2.display()  "
   ]
  },
  {
   "cell_type": "code",
   "execution_count": 5,
   "metadata": {},
   "outputs": [
    {
     "name": "stdout",
     "output_type": "stream",
     "text": [
      "Dynamic Variable: 10\n",
      "Dynamic Variable: 20\n",
      "Dynamic Variable: 30\n"
     ]
    }
   ],
   "source": [
    "# 2. Explain the purpose of \"pop\",\"popitem\",\"clear()\" in a dictionary with suitable examples.\n",
    "\n",
    "\n",
    "class MyClass:\n",
    "    def __init__(self, value):\n",
    "        # Dynamic variable\n",
    "        self.dynamic_var = value\n",
    "\n",
    "    def display(self):\n",
    "        print(f\"Dynamic Variable: {self.dynamic_var}\")\n",
    "\n",
    "\n",
    "obj1 = MyClass(10)\n",
    "obj1.display()\n",
    "\n",
    "obj2 = MyClass(20)\n",
    "obj2.display()\n",
    "\n",
    "obj3 = MyClass(30)\n",
    "obj3.display()\n"
   ]
  },
  {
   "cell_type": "code",
   "execution_count": 1,
   "metadata": {},
   "outputs": [
    {
     "name": "stdout",
     "output_type": "stream",
     "text": [
      "2\n",
      "{'a': 1, 'c': 3}\n",
      "Key not found\n",
      "{'a': 1, 'c': 3}\n"
     ]
    }
   ],
   "source": [
    "# Pop\n",
    "\n",
    "my_dict = {'a': 1, 'b': 2, 'c': 3}\n",
    "\n",
    "# Removing a key\n",
    "value = my_dict.pop('b')\n",
    "print(value)    \n",
    "print(my_dict)    \n",
    "\n",
    "# Removing a key with a default value\n",
    "value = my_dict.pop('d', 'Key not found')\n",
    "print(value)     \n",
    "print(my_dict)    \n"
   ]
  },
  {
   "cell_type": "code",
   "execution_count": 2,
   "metadata": {},
   "outputs": [
    {
     "name": "stdout",
     "output_type": "stream",
     "text": [
      "c 3\n",
      "{'a': 1, 'b': 2}\n"
     ]
    }
   ],
   "source": [
    "\n",
    "# Pop Item\n",
    "\n",
    "my_dict = {'a': 1, 'b': 2, 'c': 3}\n",
    "\n",
    "# Removing the last item\n",
    "key, value = my_dict.popitem()\n",
    "print(key, value) # Output: c 3\n",
    "print(my_dict)    # Output: {'a': 1, 'b': 2}\n",
    "\n"
   ]
  },
  {
   "cell_type": "code",
   "execution_count": 3,
   "metadata": {},
   "outputs": [
    {
     "name": "stdout",
     "output_type": "stream",
     "text": [
      "{}\n"
     ]
    }
   ],
   "source": [
    "\n",
    "# Clear()\n",
    "\n",
    "my_dict = {'a': 1, 'b': 2, 'c': 3}\n",
    "\n",
    "# Clearing the dictionary\n",
    "my_dict.clear()\n",
    "print(my_dict)    # Output: {}\n",
    "\n"
   ]
  },
  {
   "cell_type": "code",
   "execution_count": 4,
   "metadata": {},
   "outputs": [
    {
     "name": "stdout",
     "output_type": "stream",
     "text": [
      "frozenset({1, 2, 3, 4})\n",
      "frozenset({1, 2, 3, 4})\n",
      "frozenset({'h', 'l', 'o', 'e'})\n"
     ]
    }
   ],
   "source": [
    "\n",
    "# 3. What do you mean by FrozenSet? Explain it with suitable examples.\n",
    "\n",
    "# Frozenset\n",
    "\n",
    "# frozenset from a list\n",
    "my_frozenset = frozenset([1, 2, 3, 4])\n",
    "print(my_frozenset)  \n",
    "\n",
    "#  frozenset from a set\n",
    "my_frozenset = frozenset({1, 2, 3, 4})\n",
    "print(my_frozenset)  \n",
    "\n",
    "# frozenset from a string\n",
    "my_frozenset = frozenset(\"hello\")\n",
    "print(my_frozenset) \n"
   ]
  },
  {
   "cell_type": "code",
   "execution_count": 5,
   "metadata": {},
   "outputs": [
    {
     "name": "stdout",
     "output_type": "stream",
     "text": [
      "Name: Sagar, Age: 30\n"
     ]
    }
   ],
   "source": [
    "# What is __init__?Explain with an example.\n",
    "\n",
    "class Person:\n",
    "    def __init__(self, name, age):\n",
    "        self.name = name  \n",
    "        self.age = age    \n",
    "\n",
    "    def display_info(self):\n",
    "        print(f\"Name: {self.name}, Age: {self.age}\")\n",
    "\n",
    "\n",
    "person1 = Person(\"Sagar\", 30)\n",
    "\n",
    "\n",
    "person1.display_info()  \n"
   ]
  },
  {
   "cell_type": "code",
   "execution_count": 3,
   "metadata": {},
   "outputs": [
    {
     "name": "stdout",
     "output_type": "stream",
     "text": [
      "\n",
      "    This function takes two numbers and returns their sum.\n",
      "    Parameters:\n",
      "    a (int, float): The first number.\n",
      "    b (int, float): The second number.\n",
      "    Returns:\n",
      "    int, float: The sum of the two numbers.\n",
      "    \n",
      "Help on function add in module __main__:\n",
      "\n",
      "add(a, b)\n",
      "    This function takes two numbers and returns their sum.\n",
      "    Parameters:\n",
      "    a (int, float): The first number.\n",
      "    b (int, float): The second number.\n",
      "    Returns:\n",
      "    int, float: The sum of the two numbers.\n",
      "\n"
     ]
    }
   ],
   "source": [
    "# 6. What is docstring in Python? Explain with an example\n",
    "def add(a, b):\n",
    "    \"\"\"\n",
    "    This function takes two numbers and returns their sum.\n",
    "    Parameters:\n",
    "    a (int, float): The first number.\n",
    "    b (int, float): The second number.\n",
    "    Returns:\n",
    "    int, float: The sum of the two numbers.\n",
    "    \"\"\"\n",
    "    return a + b\n",
    "\n",
    "print(add.__doc__)\n",
    "\n",
    "help(add)"
   ]
  },
  {
   "cell_type": "code",
   "execution_count": 5,
   "metadata": {},
   "outputs": [
    {
     "name": "stdout",
     "output_type": "stream",
     "text": [
      "0\n",
      "1\n",
      "2\n",
      "3\n",
      "4\n"
     ]
    }
   ],
   "source": [
    "# 8. What is break, continue and pass in Python?\n",
    "\n",
    "\n",
    "# break\n",
    "\n",
    "for i in range(10):\n",
    "    if i == 5:\n",
    "        break\n",
    "    print(i)\n",
    "\n",
    "\n"
   ]
  },
  {
   "cell_type": "code",
   "execution_count": 6,
   "metadata": {},
   "outputs": [
    {
     "name": "stdout",
     "output_type": "stream",
     "text": [
      "1\n",
      "3\n",
      "5\n",
      "7\n",
      "9\n"
     ]
    }
   ],
   "source": [
    "\n",
    "# Continue Statement\n",
    "\n",
    "for i in range(10):\n",
    "    if i % 2 == 0:\n",
    "        continue\n",
    "    print(i)\n",
    "\n"
   ]
  },
  {
   "cell_type": "code",
   "execution_count": 7,
   "metadata": {},
   "outputs": [
    {
     "name": "stdout",
     "output_type": "stream",
     "text": [
      "1\n",
      "3\n",
      "5\n",
      "7\n",
      "9\n"
     ]
    }
   ],
   "source": [
    "\n",
    "# Pass Statement\n",
    "\n",
    "for i in range(10):\n",
    "    if i % 2 == 0:\n",
    "        pass  # Placeholder for future code\n",
    "    else:\n",
    "        print(i)\n"
   ]
  },
  {
   "cell_type": "code",
   "execution_count": 9,
   "metadata": {},
   "outputs": [
    {
     "name": "stdout",
     "output_type": "stream",
     "text": [
      "Buddy is 5 years old.\n",
      "Buddy says Woof\n"
     ]
    }
   ],
   "source": [
    "# 9. What is the use of self in Python?\n",
    "\n",
    "class Dog:\n",
    "    def __init__(self, name, age):\n",
    "        self.name = name  # Instance attribute 'name'\n",
    "        self.age = age    # Instance attribute 'age'\n",
    "\n",
    "    def description(self):\n",
    "        return f\"{self.name} is {self.age} years old.\"\n",
    "\n",
    "    def speak(self, sound):\n",
    "        return f\"{self.name} says {sound}\"\n",
    "\n",
    "# Creating an instance of the Dog class\n",
    "my_dog = Dog(\"Buddy\", 5)\n",
    "\n",
    "\n",
    "print(my_dog.description())  \n",
    "print(my_dog.speak(\"Woof\"))  \n"
   ]
  },
  {
   "cell_type": "code",
   "execution_count": 10,
   "metadata": {},
   "outputs": [
    {
     "name": "stdout",
     "output_type": "stream",
     "text": [
      "I am a global variable\n"
     ]
    }
   ],
   "source": [
    "\n",
    "# 10. What are global, protected and private attributes in Python?\n",
    "\n",
    "# Global attribute\n",
    "global_var = \"I am a global variable\"\n",
    "\n",
    "def access_global():\n",
    "    print(global_var)\n",
    "\n",
    "access_global()  # Output: I am a global variable\n",
    "\n"
   ]
  },
  {
   "cell_type": "code",
   "execution_count": 11,
   "metadata": {},
   "outputs": [
    {
     "name": "stdout",
     "output_type": "stream",
     "text": [
      "I am a protected attribute\n",
      "I am a protected attribute\n"
     ]
    }
   ],
   "source": [
    "\n",
    "# Protected\n",
    "\n",
    "class BaseClass:\n",
    "    def __init__(self):\n",
    "        self._protected_attr = \"I am a protected attribute\"\n",
    "\n",
    "class SubClass(BaseClass):\n",
    "    def access_protected(self):\n",
    "        return self._protected_attr\n",
    "\n",
    "base = BaseClass()\n",
    "sub = SubClass()\n",
    "\n",
    "print(sub.access_protected()) \n",
    "\n",
    "print(base._protected_attr)    \n"
   ]
  },
  {
   "cell_type": "code",
   "execution_count": 13,
   "metadata": {},
   "outputs": [
    {
     "name": "stdout",
     "output_type": "stream",
     "text": [
      "I am a private attribute\n",
      "I am a private attribute\n"
     ]
    }
   ],
   "source": [
    "\n",
    "# Private \n",
    "\n",
    "class MyClass:\n",
    "    def __init__(self):\n",
    "        self.__private_attr = \"I am a private attribute\"\n",
    "\n",
    "    def get_private_attr(self):\n",
    "        return self.__private_attr\n",
    "\n",
    "my_instance = MyClass()\n",
    "\n",
    "\n",
    "print(my_instance.get_private_attr())  \n",
    "\n",
    "# Attempting to access private attribute directly (raises AttributeError)\n",
    "# print(my_instance.__private_attr)    # Uncommenting this line will raise an AttributeError\n",
    "\n",
    "# Accessing private attribute using name mangling.\n",
    "print(my_instance._MyClass__private_attr)  \n"
   ]
  },
  {
   "cell_type": "code",
   "execution_count": 14,
   "metadata": {},
   "outputs": [],
   "source": [
    "# 11. What are modules and packages in Python?\n",
    "\n",
    "# mymodule.py\n",
    "\n",
    "def greet(name):\n",
    "    return f\"Hello, {name}!\"\n",
    "\n",
    "class Person:\n",
    "    def __init__(self, name):\n",
    "        self.name = name\n",
    "\n",
    "    def introduce(self):\n",
    "        return f\"My name is {self.name}.\"\n"
   ]
  },
  {
   "cell_type": "code",
   "execution_count": 2,
   "metadata": {},
   "outputs": [
    {
     "name": "stdout",
     "output_type": "stream",
     "text": [
      "Hello, Alice!\n",
      "My name is Bob.\n"
     ]
    }
   ],
   "source": [
    "# main.py\n",
    "\n",
    "import module\n",
    "\n",
    "print(module.greet(\"Alice\"))  \n",
    "person = module.Person(\"Bob\")\n",
    "print(person.introduce())       \n"
   ]
  },
  {
   "cell_type": "code",
   "execution_count": 3,
   "metadata": {},
   "outputs": [
    {
     "name": "stdout",
     "output_type": "stream",
     "text": [
      "1\n",
      "[1, 'banana', 3, 'apple', [5, 6, 7]]\n",
      "[1, 'banana', 3, 'apple', [5, 6, 7], 'cherry']\n",
      "[1, 'banana', 3, [5, 6, 7], 'cherry']\n"
     ]
    }
   ],
   "source": [
    "# 12. What are lists and tuples? What is the key difference between the two?\n",
    "\n",
    "# list\n",
    "\n",
    "my_list = [1, 2, 3, \"apple\", [5, 6, 7]]\n",
    "\n",
    "# Accessing elements\n",
    "print(my_list[0])  \n",
    "\n",
    "# Modifying elements\n",
    "my_list[1] = \"banana\"\n",
    "print(my_list)  \n",
    "\n",
    "# Adding elements\n",
    "my_list.append(\"cherry\")\n",
    "print(my_list)  \n",
    "\n",
    "# Removing elements\n",
    "my_list.remove(\"apple\")\n",
    "print(my_list)  # Output: \n"
   ]
  },
  {
   "cell_type": "code",
   "execution_count": 4,
   "metadata": {},
   "outputs": [
    {
     "name": "stdout",
     "output_type": "stream",
     "text": [
      "1\n",
      "(2, 3)\n"
     ]
    }
   ],
   "source": [
    "# Tuple: \n",
    "my_tuple = (1, 2, 3, \"apple\", (5, 6, 7))\n",
    "\n",
    "# Accessing elements\n",
    "print(my_tuple[0])  \n",
    "\n",
    "\n",
    "\n",
    "# Tuples support indexing and slicing\n",
    "print(my_tuple[1:3])  # Output: (2, 3)\n",
    "\n"
   ]
  },
  {
   "cell_type": "code",
   "execution_count": 6,
   "metadata": {},
   "outputs": [
    {
     "name": "stdout",
     "output_type": "stream",
     "text": [
      "[0, 1, 4, 9, 16, 25, 36, 49, 64, 81]\n",
      "[0, 4, 16, 36, 64]\n"
     ]
    }
   ],
   "source": [
    "#14.   What are Dict and List comprehensions\n",
    "\n",
    "# List Comprehenson\n",
    "\n",
    "squares = [x**2 for x in range(10)]\n",
    "print(squares)  # Output: [0, 1, 4, 9, 16, 25, 36, 49, 64, 81]\n",
    "\n",
    "even_squares = [x**2 for x in range(10) if x % 2 == 0]\n",
    "print(even_squares)  # Output: [0, 4, 16, 36, 64]\n",
    "\n",
    "\n"
   ]
  },
  {
   "cell_type": "code",
   "execution_count": 7,
   "metadata": {},
   "outputs": [
    {
     "name": "stdout",
     "output_type": "stream",
     "text": [
      "{0: 0, 1: 1, 2: 4, 3: 9, 4: 16, 5: 25, 6: 36, 7: 49, 8: 64, 9: 81}\n",
      "{0: 0, 2: 4, 4: 16, 6: 36, 8: 64}\n"
     ]
    }
   ],
   "source": [
    "\n",
    "# Dict Comprehension\n",
    "\n",
    "square_dict = {x: x**2 for x in range(10)}\n",
    "print(square_dict)  # Output: {0: 0, 1: 1, 2: 4, 3: 9, 4: 16, 5: 25, 6: 36, 7: 49, 8: 64, 9: 81}\n",
    "\n",
    "\n",
    "even_square_dict = {x: x**2 for x in range(10) if x % 2 == 0}\n",
    "print(even_square_dict)  # Output: {0: 0, 2: 4, 4: 16, 6: 36, 8: 64}\n"
   ]
  },
  {
   "cell_type": "code",
   "execution_count": 8,
   "metadata": {},
   "outputs": [
    {
     "name": "stdout",
     "output_type": "stream",
     "text": [
      "Something is happening before the function is called.\n",
      "Hello!\n",
      "Something is happening after the function is called.\n"
     ]
    }
   ],
   "source": [
    "# 15  What are decorators in Python? Explain it with an example.Write down its use cases.\n",
    "\n",
    "# Defining Decorator\n",
    "def my_decorator(func):\n",
    "    def wrapper():\n",
    "        print(\"Something is happening before the function is called.\")\n",
    "        func()\n",
    "        print(\"Something is happening after the function is called.\")\n",
    "    return wrapper\n",
    "\n",
    "\n",
    "# Using Decorator\n",
    "@my_decorator\n",
    "def say_hello():\n",
    "    print(\"Hello!\")\n",
    "\n",
    "say_hello()\n"
   ]
  },
  {
   "cell_type": "code",
   "execution_count": 9,
   "metadata": {},
   "outputs": [
    {
     "name": "stdout",
     "output_type": "stream",
     "text": [
      "5\n"
     ]
    }
   ],
   "source": [
    "# 17.  What is lambda in Python? Why is it used\n",
    "\n",
    "# Regular function\n",
    "def add(x, y):\n",
    "    return x + y\n",
    "\n",
    "# Lambda function\n",
    "add_lambda = lambda x, y: x + y\n",
    "\n",
    "print(add_lambda(2, 3))  # Output: 5\n"
   ]
  },
  {
   "cell_type": "code",
   "execution_count": 10,
   "metadata": {},
   "outputs": [
    {
     "name": "stdout",
     "output_type": "stream",
     "text": [
      "['Python', 'is', 'great']\n",
      "['apple', 'orange', 'banana']\n",
      "['one', 'two', 'three four']\n"
     ]
    }
   ],
   "source": [
    "\n",
    "# 18. Explain split() and join() functions in Python.\n",
    "\n",
    "# Split()\n",
    "\n",
    "# Basic split\n",
    "text = \"Python is great\"\n",
    "words = text.split()\n",
    "print(words)  \n",
    "\n",
    "# Custom split\n",
    "text = \"apple,orange,banana\"\n",
    "fruits = text.split(',')\n",
    "print(fruits)  \n",
    "\n",
    "# max split\n",
    "text = \"one two three four\"\n",
    "parts = text.split(' ', 2)\n",
    "print(parts)  \n",
    "\n",
    "\n"
   ]
  },
  {
   "cell_type": "code",
   "execution_count": 11,
   "metadata": {},
   "outputs": [
    {
     "name": "stdout",
     "output_type": "stream",
     "text": [
      "Python is great\n",
      "apple,orange,banana\n",
      "Line 1\n",
      "Line 2\n",
      "Line 3\n"
     ]
    }
   ],
   "source": [
    "# join()\n",
    "\n",
    "# basic join\n",
    "words = ['Python', 'is', 'great']\n",
    "text = ' '.join(words)\n",
    "print(text)  \n",
    "\n",
    "# Custom delimeters\n",
    "\n",
    "fruits = ['apple', 'orange', 'banana']\n",
    "text = ','.join(fruits)\n",
    "print(text)  \n",
    "\n",
    "# Joining with newline character\n",
    "\n",
    "lines = ['Line 1', 'Line 2', 'Line 3']\n",
    "text = '\\n'.join(lines)\n",
    "print(text)\n",
    "\n"
   ]
  },
  {
   "cell_type": "code",
   "execution_count": 12,
   "metadata": {},
   "outputs": [
    {
     "name": "stdout",
     "output_type": "stream",
     "text": [
      "5\n",
      "4\n",
      "3\n",
      "2\n",
      "1\n"
     ]
    }
   ],
   "source": [
    "#19 What are iterators , iterable & generators in Python?\n",
    "\n",
    "# Iterators\n",
    "\n",
    "# Iterator example\n",
    "class CountDown:\n",
    "    def __init__(self, start):\n",
    "        self.start = start\n",
    "\n",
    "    def __iter__(self):\n",
    "        return self\n",
    "\n",
    "    def __next__(self):\n",
    "        if self.start <= 0:\n",
    "            raise StopIteration\n",
    "        else:\n",
    "            self.start -= 1\n",
    "            return self.start + 1\n",
    "\n",
    "countdown = CountDown(5)\n",
    "for number in countdown:\n",
    "    print(number)  \n",
    "\n"
   ]
  },
  {
   "cell_type": "code",
   "execution_count": 13,
   "metadata": {},
   "outputs": [
    {
     "name": "stdout",
     "output_type": "stream",
     "text": [
      "5\n",
      "4\n",
      "3\n",
      "2\n",
      "1\n"
     ]
    }
   ],
   "source": [
    "\n",
    "\n",
    "# Generator example\n",
    "def count_down(start):\n",
    "    while start > 0:\n",
    "        yield start\n",
    "        start -= 1\n",
    "\n",
    "# Create a generator object\n",
    "countdown_gen = count_down(5)\n",
    "for number in countdown_gen:\n",
    "    print(number)  # Output: 5 4 3 2 1\n"
   ]
  },
  {
   "cell_type": "code",
   "execution_count": 14,
   "metadata": {},
   "outputs": [
    {
     "name": "stdout",
     "output_type": "stream",
     "text": [
      "1500\n"
     ]
    }
   ],
   "source": [
    "# 21 Pillars of Oops.?\n",
    "\n",
    "# Encapsulation: \n",
    "\n",
    "class BankAccount:\n",
    "    def __init__(self, balance):\n",
    "        self.__balance = balance  # Private attribute\n",
    "\n",
    "    def deposit(self, amount):\n",
    "        if amount > 0:\n",
    "            self.__balance += amount\n",
    "\n",
    "    def get_balance(self):\n",
    "        return self.__balance\n",
    "\n",
    "account = BankAccount(1000)\n",
    "account.deposit(500)\n",
    "print(account.get_balance())  \n",
    "\n",
    "\n"
   ]
  },
  {
   "cell_type": "code",
   "execution_count": 15,
   "metadata": {},
   "outputs": [
    {
     "name": "stdout",
     "output_type": "stream",
     "text": [
      "20\n"
     ]
    }
   ],
   "source": [
    "\n",
    "# Abstraction \n",
    "\n",
    "from abc import ABC, abstractmethod\n",
    "\n",
    "class Shape(ABC):\n",
    "    @abstractmethod\n",
    "    def area(self):\n",
    "        pass\n",
    "\n",
    "class Rectangle(Shape):\n",
    "    def __init__(self, width, height):\n",
    "        self.width = width\n",
    "        self.height = height\n",
    "\n",
    "    def area(self):\n",
    "        return self.width * self.height\n",
    "\n",
    "rect = Rectangle(4, 5)\n",
    "print(rect.area())  # Output: 20\n"
   ]
  },
  {
   "cell_type": "code",
   "execution_count": 16,
   "metadata": {},
   "outputs": [
    {
     "name": "stdout",
     "output_type": "stream",
     "text": [
      "Dog barks\n"
     ]
    }
   ],
   "source": [
    "\n",
    "# Inheritance\n",
    "\n",
    "class Animal:\n",
    "    def speak(self):\n",
    "        return \"Animal speaks\"\n",
    "\n",
    "class Dog(Animal):\n",
    "    def speak(self):\n",
    "        return \"Dog barks\"\n",
    "\n",
    "dog = Dog()\n",
    "print(dog.speak())  # Output: Dog barks\n"
   ]
  },
  {
   "cell_type": "code",
   "execution_count": 17,
   "metadata": {},
   "outputs": [
    {
     "name": "stdout",
     "output_type": "stream",
     "text": [
      "Cat meows\n",
      "Dog barks\n"
     ]
    }
   ],
   "source": [
    "\n",
    "# Polymorphism\n",
    "\n",
    "class Cat:\n",
    "    def speak(self):\n",
    "        return \"Cat meows\"\n",
    "\n",
    "class Dog:\n",
    "    def speak(self):\n",
    "        return \"Dog barks\"\n",
    "\n",
    "def make_animal_speak(animal):\n",
    "    print(animal.speak())\n",
    "\n",
    "cat = Cat()\n",
    "dog = Dog()\n",
    "\n",
    "make_animal_speak(cat)  # Output: Cat meows\n",
    "make_animal_speak(dog)  # Output: Dog barks\n"
   ]
  },
  {
   "cell_type": "code",
   "execution_count": 18,
   "metadata": {},
   "outputs": [
    {
     "name": "stdout",
     "output_type": "stream",
     "text": [
      "True\n",
      "True\n"
     ]
    }
   ],
   "source": [
    "# 22. How will you check if a class is a child of another class?\n",
    "\n",
    "\n",
    "# using isinstance() func\n",
    "\n",
    "class Parent:\n",
    "    pass\n",
    "\n",
    "class Child(Parent):\n",
    "    pass\n",
    "\n",
    "# Create an instance of the child class\n",
    "child_instance = Child()\n",
    "\n",
    "# Check if the instance is an instance of the parent class\n",
    "print(isinstance(child_instance, Parent))  # Output: True\n",
    "print(isinstance(child_instance, Child))   # Output: True\n"
   ]
  },
  {
   "cell_type": "code",
   "execution_count": 19,
   "metadata": {},
   "outputs": [
    {
     "name": "stdout",
     "output_type": "stream",
     "text": [
      "Animal speaks\n",
      "Dog barks\n"
     ]
    }
   ],
   "source": [
    "\n",
    "# 23.  How does inheritance work in python? Explain all types of inheritance with an example\n",
    "\n",
    "# Single Inheritance\n",
    "\n",
    "class Animal:\n",
    "    def speak(self):\n",
    "        return \"Animal speaks\"\n",
    "\n",
    "class Dog(Animal):\n",
    "    def bark(self):\n",
    "        return \"Dog barks\"\n",
    "\n",
    "dog = Dog()\n",
    "print(dog.speak())  # Output: Animal speaks\n",
    "print(dog.bark())   # Output: Dog barks\n"
   ]
  },
  {
   "cell_type": "code",
   "execution_count": 20,
   "metadata": {},
   "outputs": [
    {
     "name": "stdout",
     "output_type": "stream",
     "text": [
      "Can fly\n",
      "Can swim\n"
     ]
    }
   ],
   "source": [
    "\n",
    "# Multiple inheritance\n",
    "\n",
    "class Flyer:\n",
    "    def fly(self):\n",
    "        return \"Can fly\"\n",
    "\n",
    "class Swimmer:\n",
    "    def swim(self):\n",
    "        return \"Can swim\"\n",
    "\n",
    "class Duck(Flyer, Swimmer):\n",
    "    pass\n",
    "\n",
    "duck = Duck()\n",
    "print(duck.fly())  # Output: Can fly\n",
    "print(duck.swim()) # Output: Can swim\n"
   ]
  },
  {
   "cell_type": "code",
   "execution_count": 21,
   "metadata": {},
   "outputs": [
    {
     "name": "stdout",
     "output_type": "stream",
     "text": [
      "Animal eats\n",
      "Mammal breathes\n",
      "Dog barks\n"
     ]
    }
   ],
   "source": [
    "# Multilevel inheritance\n",
    "\n",
    "class Animal:\n",
    "    def eat(self):\n",
    "        return \"Animal eats\"\n",
    "\n",
    "class Mammal(Animal):\n",
    "    def breathe(self):\n",
    "        return \"Mammal breathes\"\n",
    "\n",
    "class Dog(Mammal):\n",
    "    def bark(self):\n",
    "        return \"Dog barks\"\n",
    "\n",
    "dog = Dog()\n",
    "print(dog.eat())    # Output: Animal eats\n",
    "print(dog.breathe())# Output: Mammal breathes\n",
    "print(dog.bark())   # Output: Dog barks\n"
   ]
  },
  {
   "cell_type": "code",
   "execution_count": 22,
   "metadata": {},
   "outputs": [
    {
     "name": "stdout",
     "output_type": "stream",
     "text": [
      "Vehicle moves\n",
      "Car honks\n",
      "Vehicle moves\n",
      "Bike rings bell\n"
     ]
    }
   ],
   "source": [
    "\n",
    "# hierarchical inheritance\n",
    "\n",
    "class Vehicle:\n",
    "    def move(self):\n",
    "        return \"Vehicle moves\"\n",
    "\n",
    "class Car(Vehicle):\n",
    "    def honk(self):\n",
    "        return \"Car honks\"\n",
    "\n",
    "class Bike(Vehicle):\n",
    "    def ring_bell(self):\n",
    "        return \"Bike rings bell\"\n",
    "\n",
    "car = Car()\n",
    "bike = Bike()\n",
    "\n",
    "print(car.move())    # Output: Vehicle moves\n",
    "print(car.honk())    # Output: Car honks\n",
    "\n",
    "print(bike.move())   # Output: Vehicle moves\n",
    "print(bike.ring_bell()) # Output: Bike rings bell\n"
   ]
  },
  {
   "cell_type": "code",
   "execution_count": 23,
   "metadata": {},
   "outputs": [
    {
     "name": "stdout",
     "output_type": "stream",
     "text": [
      "Method A\n",
      "Method B\n",
      "Method C\n"
     ]
    }
   ],
   "source": [
    "\n",
    "# Hybrid Inheritance\n",
    "\n",
    "class A:\n",
    "    def method_a(self):\n",
    "        return \"Method A\"\n",
    "\n",
    "class B(A):\n",
    "    def method_b(self):\n",
    "        return \"Method B\"\n",
    "\n",
    "class C(A):\n",
    "    def method_c(self):\n",
    "        return \"Method C\"\n",
    "\n",
    "class D(B, C):\n",
    "    pass\n",
    "\n",
    "d = D()\n",
    "print(d.method_a()) # Output: Method A\n",
    "print(d.method_b()) # Output: Method B\n",
    "print(d.method_c()) # Output: Method C\n"
   ]
  },
  {
   "cell_type": "code",
   "execution_count": 24,
   "metadata": {},
   "outputs": [
    {
     "name": "stdout",
     "output_type": "stream",
     "text": [
      "Current Balance: 1500\n",
      "Current Balance: 1300\n",
      "Account Number: 123456\n"
     ]
    }
   ],
   "source": [
    "\n",
    "# 24. What is encapsulation? Explain it with an example.\n",
    "\n",
    "class BankAccount:\n",
    "    def __init__(self, account_number, initial_balance):\n",
    "        self.__account_number = account_number  # Private attribute\n",
    "        self.__balance = initial_balance       # Private attribute\n",
    "\n",
    "    def deposit(self, amount):\n",
    "        if amount > 0:\n",
    "            self.__balance += amount\n",
    "        else:\n",
    "            print(\"Deposit amount must be positive\")\n",
    "\n",
    "    def withdraw(self, amount):\n",
    "        if 0 < amount <= self.__balance:\n",
    "            self.__balance -= amount\n",
    "        else:\n",
    "            print(\"Invalid withdrawal amount\")\n",
    "\n",
    "    def get_balance(self):\n",
    "        return self.__balance\n",
    "\n",
    "    def get_account_number(self):\n",
    "        return self.__account_number\n",
    "\n",
    "account = BankAccount(\"123456\", 1000)\n",
    "account.deposit(500)  # Accessing and modifying balance via public methods\n",
    "print(\"Current Balance:\", account.get_balance())  \n",
    "account.withdraw(200)\n",
    "print(\"Current Balance:\", account.get_balance())  \n",
    "print(\"Account Number:\", account.get_account_number()) # Correct way to access private data through public methods"
   ]
  },
  {
   "cell_type": "code",
   "execution_count": 25,
   "metadata": {},
   "outputs": [
    {
     "name": "stdout",
     "output_type": "stream",
     "text": [
      "Woof!\n",
      "Meow!\n",
      "Tweet!\n"
     ]
    }
   ],
   "source": [
    "# 25. What is polymorphism?  Explain it with an example\n",
    "\n",
    "class Animal:\n",
    "    def speak(self):\n",
    "        raise NotImplementedError(\"Subclass must implement abstract method\")\n",
    "\n",
    "class Dog(Animal):\n",
    "    def speak(self):\n",
    "        return \"Woof!\"\n",
    "\n",
    "class Cat(Animal):\n",
    "    def speak(self):\n",
    "        return \"Meow!\"\n",
    "\n",
    "class Bird(Animal):\n",
    "    def speak(self):\n",
    "        return \"Tweet!\"\n",
    "\n",
    "def make_animal_speak(animal):\n",
    "    print(animal.speak())\n",
    "\n",
    "dog = Dog()\n",
    "cat = Cat()\n",
    "bird = Bird()\n",
    "\n",
    "# Using polymorphism to call the same method on different objects\n",
    "make_animal_speak(dog)  \n",
    "make_animal_speak(cat)  \n",
    "make_animal_speak(bird) \n"
   ]
  },
  {
   "cell_type": "code",
   "execution_count": 1,
   "metadata": {},
   "outputs": [
    {
     "name": "stdout",
     "output_type": "stream",
     "text": [
      "['freedom_fighter', 'Mohan', 'dash', 'karam', 'chandra', 'gandhi', 'Bapu']\n"
     ]
    }
   ],
   "source": [
    "# Question 1.3. name = [\"Mohan\", \"dash\", \"karam\", \"chandra\",\"gandhi\",\"Bapu\"] \n",
    "# do the following operations in this list;\n",
    "\n",
    "# a)\tadd an element \"freedom_fighter\" in this list at the 0th index.\n",
    "\n",
    "name = [\"Mohan\", \"dash\", \"karam\", \"chandra\", \"gandhi\", \"Bapu\"]\n",
    "name.insert(0, \"freedom_fighter\")\n",
    "print(name)\n"
   ]
  },
  {
   "cell_type": "code",
   "execution_count": 3,
   "metadata": {},
   "outputs": [
    {
     "name": "stdout",
     "output_type": "stream",
     "text": [
      "6\n"
     ]
    }
   ],
   "source": [
    "\n",
    "# b)\tfind the output of the following ,and explain how?\n",
    "\n",
    "name = [\"freedomFighter\",\"Bapuji\",\"MOhan\" \"dash\", \"karam\", \"chandra\",\"gandhi\"] \n",
    "length1=len((name[-len(name)+1:-1:2])) \n",
    "length2=len((name[-len(name)+1:-1])) \n",
    "print(length1+length2)\n",
    "\n",
    "\n"
   ]
  },
  {
   "cell_type": "code",
   "execution_count": 4,
   "metadata": {},
   "outputs": [
    {
     "name": "stdout",
     "output_type": "stream",
     "text": [
      "['freedomFighter', 'Bapuji', 'MOhandash', 'karam', 'chandra', 'gandhi', 'NetaJi', 'Bose']\n"
     ]
    }
   ],
   "source": [
    "# c) add two more elements in the name [\"NetaJi\",\"Bose\"] at the end of the list.\n",
    "\n",
    "\n",
    "name = [\"freedomFighter\", \"Bapuji\", \"MOhandash\", \"karam\", \"chandra\", \"gandhi\"]\n",
    "name.extend([\"NetaJi\", \"Bose\"])\n",
    "print(name)\n",
    "\n"
   ]
  },
  {
   "cell_type": "code",
   "execution_count": 6,
   "metadata": {},
   "outputs": [
    {
     "name": "stdout",
     "output_type": "stream",
     "text": [
      "['Mohan', 'dash', 'karam', 'chandra', 'gandi', 'Bapuji']\n",
      "Mohan\n"
     ]
    }
   ],
   "source": [
    "#d)\t what will be the value of temp: \n",
    "name = [\"Bapuji\", \"dash\", \"karam\", \"chandra\",\"gandi\",\"Mohan\"] \n",
    "temp=name[-1] \n",
    "name[-1]=name[0] \n",
    "name[0]=temp\n",
    "print(name)\n",
    "\n",
    "print(temp)\n",
    "\n"
   ]
  },
  {
   "cell_type": "code",
   "execution_count": 7,
   "metadata": {},
   "outputs": [
    {
     "name": "stdout",
     "output_type": "stream",
     "text": [
      "2\n",
      "4\n",
      "7\n"
     ]
    }
   ],
   "source": [
    "#  Question 1.4.Find the output of the following.\n",
    "\n",
    "animal = ['Human','cat','mat','cat','rat','Human', 'Lion']\n",
    "print(animal.count('Human')) \n",
    "print(animal.index('rat')) \n",
    "print(len(animal))\n",
    "\n"
   ]
  },
  {
   "cell_type": "code",
   "execution_count": 14,
   "metadata": {},
   "outputs": [
    {
     "name": "stdout",
     "output_type": "stream",
     "text": [
      "8\n",
      "Navneet\n",
      "1\n",
      "ji\n",
      "22\n"
     ]
    }
   ],
   "source": [
    "\n",
    "# Question 1.5. \n",
    "tuple1=(10,20,\"Apple\",3.4,'a',[\"master\",\"ji\"],(\"sita\",\"geeta\",22),[{\"roll_no\":1}, {\"name\":\"Navneet\"}]) \n",
    "\n",
    "print(len(tuple1))\n",
    " \n",
    "print(tuple1[-1][-1][\"name\"])\n",
    " \n",
    "#fetch the value of roll_no from this tuple. \n",
    "print(tuple1[-1][0][\"roll_no\"])\n",
    "\n",
    "print(tuple1[-3][1]) \n",
    "#fetch the element \"22\" from this tuple.\n",
    "\n",
    "print(tuple1[-2][-1])\n",
    "\n",
    "\n",
    "\n"
   ]
  },
  {
   "cell_type": "code",
   "execution_count": 9,
   "metadata": {},
   "outputs": [
    {
     "ename": "IndexError",
     "evalue": "invalid index to scalar variable.",
     "output_type": "error",
     "traceback": [
      "\u001b[1;31m---------------------------------------------------------------------------\u001b[0m",
      "\u001b[1;31mIndexError\u001b[0m                                Traceback (most recent call last)",
      "Cell \u001b[1;32mIn[9], line 14\u001b[0m\n\u001b[0;32m     12\u001b[0m median \u001b[38;5;241m=\u001b[39m np\u001b[38;5;241m.\u001b[39mmedian(data)\n\u001b[0;32m     13\u001b[0m mode_result \u001b[38;5;241m=\u001b[39m stats\u001b[38;5;241m.\u001b[39mmode(data)\n\u001b[1;32m---> 14\u001b[0m mode \u001b[38;5;241m=\u001b[39m \u001b[43mmode_result\u001b[49m\u001b[38;5;241;43m.\u001b[39;49m\u001b[43mmode\u001b[49m\u001b[43m[\u001b[49m\u001b[38;5;241;43m0\u001b[39;49m\u001b[43m]\u001b[49m  \u001b[38;5;66;03m# Access the mode value\u001b[39;00m\n\u001b[0;32m     15\u001b[0m mode_count \u001b[38;5;241m=\u001b[39m mode_result\u001b[38;5;241m.\u001b[39mcount[\u001b[38;5;241m0\u001b[39m]  \u001b[38;5;66;03m# Access the count of the mode\u001b[39;00m\n\u001b[0;32m     17\u001b[0m \u001b[38;5;28mprint\u001b[39m(\u001b[38;5;124mf\u001b[39m\u001b[38;5;124m\"\u001b[39m\u001b[38;5;124mMean: \u001b[39m\u001b[38;5;132;01m{\u001b[39;00mmean\u001b[38;5;132;01m}\u001b[39;00m\u001b[38;5;124m\"\u001b[39m)\n",
      "\u001b[1;31mIndexError\u001b[0m: invalid index to scalar variable."
     ]
    }
   ],
   "source": [
    "\n",
    "# 20. What do you mean by Measure of Central Tendency and Measures of Dispersion .How it can be \n",
    "#     calculated.\n",
    "\n",
    "import numpy as np\n",
    "from scipy import stats\n",
    "\n",
    "# Sample data\n",
    "data = [12, 15, 14, 10, 18, 15, 14, 13, 12, 15, 16, 14, 17, 12]\n",
    "\n",
    "# Measures of Central Tendency\n",
    "mean = np.mean(data)\n",
    "median = np.median(data)\n",
    "mode_result = stats.mode(data)\n",
    "mode = mode_result.mode[0]  # Access the mode value\n",
    "mode_count = mode_result.count[0]  # Access the count of the mode\n",
    "\n",
    "print(f\"Mean: {mean}\")\n",
    "print(f\"Median: {median}\")\n",
    "print(f\"Mode: {mode} (Count: {mode_count})\")\n",
    "\n",
    "# Measures of Dispersion\n",
    "range_val = np.ptp(data)\n",
    "variance = np.var(data)\n",
    "std_dev = np.std(data)\n",
    "q1 = np.percentile(data, 25)\n",
    "q3 = np.percentile(data, 75)\n",
    "iqr = q3 - q1\n",
    "\n",
    "print(f\"Range: {range_val}\")\n",
    "print(f\"Variance: {variance}\")\n",
    "print(f\"Standard Deviation: {std_dev}\")\n",
    "print(f\"Interquartile Range (IQR): {iqr}\")\n"
   ]
  },
  {
   "cell_type": "code",
   "execution_count": 10,
   "metadata": {},
   "outputs": [
    {
     "name": "stderr",
     "output_type": "stream",
     "text": [
      "c:\\Users\\Sagar\\Envs\\tast\\Lib\\site-packages\\seaborn\\_oldcore.py:1498: FutureWarning: is_categorical_dtype is deprecated and will be removed in a future version. Use isinstance(dtype, CategoricalDtype) instead\n",
      "  if pd.api.types.is_categorical_dtype(vector):\n",
      "c:\\Users\\Sagar\\Envs\\tast\\Lib\\site-packages\\seaborn\\_oldcore.py:1119: FutureWarning: use_inf_as_na option is deprecated and will be removed in a future version. Convert inf values to NaN before operating instead.\n",
      "  with pd.option_context('mode.use_inf_as_na', True):\n",
      "c:\\Users\\Sagar\\Envs\\tast\\Lib\\site-packages\\seaborn\\_oldcore.py:1498: FutureWarning: is_categorical_dtype is deprecated and will be removed in a future version. Use isinstance(dtype, CategoricalDtype) instead\n",
      "  if pd.api.types.is_categorical_dtype(vector):\n",
      "c:\\Users\\Sagar\\Envs\\tast\\Lib\\site-packages\\seaborn\\_oldcore.py:1119: FutureWarning: use_inf_as_na option is deprecated and will be removed in a future version. Convert inf values to NaN before operating instead.\n",
      "  with pd.option_context('mode.use_inf_as_na', True):\n",
      "c:\\Users\\Sagar\\Envs\\tast\\Lib\\site-packages\\seaborn\\_oldcore.py:1498: FutureWarning: is_categorical_dtype is deprecated and will be removed in a future version. Use isinstance(dtype, CategoricalDtype) instead\n",
      "  if pd.api.types.is_categorical_dtype(vector):\n",
      "c:\\Users\\Sagar\\Envs\\tast\\Lib\\site-packages\\seaborn\\_oldcore.py:1119: FutureWarning: use_inf_as_na option is deprecated and will be removed in a future version. Convert inf values to NaN before operating instead.\n",
      "  with pd.option_context('mode.use_inf_as_na', True):\n"
     ]
    },
    {
     "data": {
      "image/png": "[encoded data removed]",
      "text/plain": [
       "<Figure size 1800x600 with 3 Axes>"
      ]
     },
     "metadata": {},
     "output_type": "display_data"
    }
   ],
   "source": [
    "# Q21.  What do you mean by skewness.Explain its types.Use graph to show.\n",
    "\n",
    "\n",
    "import numpy as np\n",
    "import matplotlib.pyplot as plt\n",
    "import seaborn as sns\n",
    "\n",
    "# Generate data with different skewness\n",
    "np.random.seed(0)\n",
    "\n",
    "# Positive skew (right skew)\n",
    "data_pos_skew = np.random.exponential(scale=2, size=1000)\n",
    "\n",
    "# Negative skew (left skew)\n",
    "data_neg_skew = -np.random.exponential(scale=2, size=1000)\n",
    "\n",
    "# Normal distribution (zero skew)\n",
    "data_zero_skew = np.random.normal(loc=0, scale=1, size=1000)\n",
    "\n",
    "# Plotting\n",
    "fig, axs = plt.subplots(1, 3, figsize=(18, 6))\n",
    "\n",
    "# Positive skew\n",
    "sns.histplot(data_pos_skew, kde=True, ax=axs[0], color='blue')\n",
    "axs[0].set_title('Positive Skewness (Right Skew)')\n",
    "\n",
    "# Negative skew\n",
    "sns.histplot(data_neg_skew, kde=True, ax=axs[1], color='red')\n",
    "axs[1].set_title('Negative Skewness (Left Skew)')\n",
    "\n",
    "# Zero skew\n",
    "sns.histplot(data_zero_skew, kde=True, ax=axs[2], color='green')\n",
    "axs[2].set_title('Zero Skewness (Normal Distribution)')\n",
    "\n",
    "for ax in axs:\n",
    "    ax.set_xlabel('Value')\n",
    "    ax.set_ylabel('Frequency')\n",
    "\n",
    "plt.tight_layout()\n",
    "plt.show()\n",
    "\n"
   ]
  },
  {
   "cell_type": "code",
   "execution_count": 11,
   "metadata": {},
   "outputs": [
    {
     "name": "stderr",
     "output_type": "stream",
     "text": [
      "C:\\Users\\Sagar\\AppData\\Local\\Temp\\ipykernel_19620\\1754538576.py:22: MatplotlibDeprecationWarning: The 'use_line_collection' parameter of stem() was deprecated in Matplotlib 3.6 and will be removed two minor releases later. If any parameter follows 'use_line_collection', they should be passed as keyword, not positionally.\n",
      "  plt.stem(values, pmf_values, basefmt=\" \", use_line_collection=True)\n"
     ]
    },
    {
     "data": {
      "image/png": "[encoded data removed]",
      "text/plain": [
       "<Figure size 1200x600 with 2 Axes>"
      ]
     },
     "metadata": {},
     "output_type": "display_data"
    }
   ],
   "source": [
    "#  22. Explain PROBABILITY MASS FUNCTION (PMF) and PROBABILITY DENSITY FUNCTION (PDF). and what is the \n",
    "#     difference between them?\n",
    "\n",
    "\n",
    "import numpy as np\n",
    "import matplotlib.pyplot as plt\n",
    "import seaborn as sns\n",
    "from scipy.stats import norm\n",
    "\n",
    "# Discrete PMF example\n",
    "values = np.arange(1, 7)\n",
    "pmf_values = np.ones(6) / 6  # Uniform distribution for a fair die\n",
    "\n",
    "# Continuous PDF example\n",
    "x = np.linspace(-4, 4, 100)\n",
    "pdf_values = norm.pdf(x, loc=0, scale=1)  # Standard normal distribution\n",
    "\n",
    "# Plotting PMF\n",
    "plt.figure(figsize=(12, 6))\n",
    "\n",
    "plt.subplot(1, 2, 1)\n",
    "plt.stem(values, pmf_values, basefmt=\" \", use_line_collection=True)\n",
    "plt.title('Probability Mass Function (PMF)')\n",
    "plt.xlabel('Value')\n",
    "plt.ylabel('Probability')\n",
    "\n",
    "# Plotting PDF\n",
    "plt.subplot(1, 2, 2)\n",
    "plt.plot(x, pdf_values, label='PDF of Normal Distribution')\n",
    "plt.title('Probability Density Function (PDF)')\n",
    "plt.xlabel('Value')\n",
    "plt.ylabel('Density')\n",
    "\n",
    "plt.tight_layout()\n",
    "plt.show()\n"
   ]
  },
  {
   "cell_type": "code",
   "execution_count": 13,
   "metadata": {},
   "outputs": [
    {
     "name": "stdout",
     "output_type": "stream",
     "text": [
      "Correlation Coefficient between x and y: 1.0000\n"
     ]
    }
   ],
   "source": [
    "\n",
    "#  23. What is correlation. Explain its type in details.what are the  methods of determining correlation.\n",
    "\n",
    "import numpy as np\n",
    "from scipy.stats import pearsonr\n",
    "\n",
    "# using Pearson Method\n",
    "def calculate_correlation(x, y):\n",
    "    \n",
    "    if len(x) != len(y):\n",
    "        raise ValueError(\"Input arrays must have the same length.\")\n",
    "    \n",
    "    \n",
    "    correlation, _ = pearsonr(x, y)\n",
    "    return correlation\n",
    "\n",
    "if __name__ == \"__main__\":\n",
    "    # Sample data\n",
    "    x = np.array([1, 2, 3, 4, 5])\n",
    "    y = np.array([2, 4, 6, 8, 10])\n",
    "    \n",
    "    \n",
    "    correlation = calculate_correlation(x, y)\n",
    "    print(f\"Correlation Coefficient between x and y: {correlation:.4f}\")\n",
    "\n"
   ]
  },
  {
   "cell_type": "code",
   "execution_count": 14,
   "metadata": {},
   "outputs": [
    {
     "name": "stdout",
     "output_type": "stream",
     "text": [
      "Pearson Correlation Coefficient between Accountancy and Statistics marks: 0.9031\n"
     ]
    }
   ],
   "source": [
    "'''\n",
    "24. Calculate coefficient of correlation between the marks obtained by 10 students in Accountancy and \n",
    "statistics: \n",
    "\n",
    "Student             Accountancy          Statistics\n",
    "   1                    45                   35\n",
    "   2                    70                   90\n",
    "   3                    65                   70\n",
    "   4                    30                   40\n",
    "   5                    90                   95\n",
    "   6                    40                   40\n",
    "   7                    50                   60 \n",
    "   8                    75                   80\n",
    "   9                    85                   80\n",
    "  10                   60                   50\n",
    "\n",
    "Use Karl Pearsons Coefficient of Correlation Method to find it.\n",
    "'''\n",
    "\n",
    "\n",
    "import numpy as np\n",
    "from scipy.stats import pearsonr\n",
    "\n",
    "# Marks obtained by 10 students in Accountancy and Statistics\n",
    "accountancy_marks = np.array([45, 70, 65, 30, 90, 40, 50, 75, 85, 60])\n",
    "statistics_marks = np.array([35, 90, 70, 40, 95, 40, 60, 80, 80, 50])\n",
    "\n",
    "# Calculate Pearson correlation coefficient\n",
    "correlation, _ = pearsonr(accountancy_marks, statistics_marks)\n",
    "\n",
    "# Print the result\n",
    "print(f\"Pearson Correlation Coefficient between Accountancy and Statistics marks: {correlation:.4f}\")\n"
   ]
  },
  {
   "cell_type": "markdown",
   "metadata": {},
   "source": [
    "50: Machine Learning:"
   ]
  },
  {
   "cell_type": "code",
   "execution_count": 3,
   "metadata": {},
   "outputs": [
    {
     "name": "stdout",
     "output_type": "stream",
     "text": [
      "0    10\n",
      "1    20\n",
      "2    30\n",
      "3    40\n",
      "4    50\n",
      "dtype: int64\n"
     ]
    }
   ],
   "source": [
    "#1. .What is the difference between Series & Dataframe?\n",
    "\n",
    "import pandas as pd\n",
    "\n",
    "# Creating a Series from a list\n",
    "data = [10, 20, 30, 40, 50]\n",
    "series = pd.Series(data)\n",
    "\n",
    "print(series)\n"
   ]
  },
  {
   "cell_type": "code",
   "execution_count": 4,
   "metadata": {},
   "outputs": [
    {
     "name": "stdout",
     "output_type": "stream",
     "text": [
      "      Name  Age         City\n",
      "0    Alice   25     New York\n",
      "1      Bob   30  Los Angeles\n",
      "2  Charlie   35      Chicago\n",
      "3    David   40      Houston\n",
      "4      Eve   45      Phoenix\n"
     ]
    }
   ],
   "source": [
    "import pandas as pd\n",
    "\n",
    "# Creating a DataFrame from a dictionary\n",
    "data = {\n",
    "    'Name': ['Alice', 'Bob', 'Charlie', 'David', 'Eve'],\n",
    "    'Age': [25, 30, 35, 40, 45],\n",
    "    'City': ['New York', 'Los Angeles', 'Chicago', 'Houston', 'Phoenix']\n",
    "}\n",
    "df = pd.DataFrame(data)\n",
    "\n",
    "print(df)\n"
   ]
  },
  {
   "cell_type": "code",
   "execution_count": 7,
   "metadata": {},
   "outputs": [
    {
     "name": "stdout",
     "output_type": "stream",
     "text": [
      "   user_id  flight_id  hotel_id  activity_id booking_date\n",
      "0        1        101       201          301   2023-01-15\n",
      "1        2        102       202          302   2023-02-20\n",
      "2        3        103       203          303   2023-03-25\n",
      "3        4        104       204          304   2023-04-30\n",
      "4        5        104       205          305   2023-05-05\n"
     ]
    },
    {
     "name": "stderr",
     "output_type": "stream",
     "text": [
      "C:\\Users\\Sagar\\AppData\\Local\\Temp\\ipykernel_16936\\790058738.py:21: UserWarning: pandas only supports SQLAlchemy connectable (engine/connection) or database string URI or sqlite3 DBAPI2 connection. Other DBAPI2 objects are not tested. Please consider using SQLAlchemy.\n",
      "  df = pd.read_sql(query, conn)\n"
     ]
    }
   ],
   "source": [
    "# 2.Create a database name Travel_Planner in mysql ,and  create a table name bookings in that which\n",
    "#   having attributes (user_id INT,  flight_id INT,hotel_id INT, activity_id INT,booking_date DATE).\n",
    "#   fill with some dummy value .Now you have to read the content of this table using pandas as dataframe.\n",
    "#   Show the output\n",
    "\n",
    "import pandas as pd\n",
    "import mysql.connector\n",
    "\n",
    "# Establish the database connection\n",
    "conn = mysql.connector.connect(\n",
    "    host='localhost', \n",
    "    user='root',  \n",
    "    password='admin',  \n",
    "    database='Travel_Planner'  \n",
    ")\n",
    "\n",
    "# Query to select all data from the bookings table\n",
    "query = \"SELECT * FROM bookings\"\n",
    "\n",
    "# Read the data into a Pandas DataFrame\n",
    "df = pd.read_sql(query, conn)\n",
    "\n",
    "\n",
    "conn.close()\n",
    "\n",
    "# Display the DataFrame\n",
    "print(df)\n"
   ]
  },
  {
   "cell_type": "code",
   "execution_count": 1,
   "metadata": {},
   "outputs": [
    {
     "name": "stdout",
     "output_type": "stream",
     "text": [
      "Name       Alice\n",
      "Age           25\n",
      "City    New York\n",
      "Name: 0, dtype: object\n",
      "0      Alice\n",
      "1        Bob\n",
      "2    Charlie\n",
      "Name: Name, dtype: object\n",
      "      Name         City\n",
      "1      Bob  Los Angeles\n",
      "2  Charlie      Chicago\n"
     ]
    }
   ],
   "source": [
    "\n",
    "# 3.Difference between loc and iloc.\n",
    "\n",
    "import pandas as pd\n",
    "\n",
    "# Creating a sample DataFrame\n",
    "data = {'Name': ['Alice', 'Bob', 'Charlie'],\n",
    "        'Age': [25, 30, 35],\n",
    "        'City': ['New York', 'Los Angeles', 'Chicago']}\n",
    "df = pd.DataFrame(data)\n",
    "\n",
    "# Using loc to access rows and columns by label\n",
    "print(df.loc[0])  \n",
    "print(df.loc[:, 'Name'])  \n",
    "print(df.loc[1:2, ['Name', 'City']])  "
   ]
  },
  {
   "cell_type": "code",
   "execution_count": 2,
   "metadata": {},
   "outputs": [
    {
     "name": "stdout",
     "output_type": "stream",
     "text": [
      "Name       Alice\n",
      "Age           25\n",
      "City    New York\n",
      "Name: 0, dtype: object\n",
      "0      Alice\n",
      "1        Bob\n",
      "2    Charlie\n",
      "Name: Name, dtype: object\n",
      "      Name         City\n",
      "1      Bob  Los Angeles\n",
      "2  Charlie      Chicago\n"
     ]
    }
   ],
   "source": [
    "# Iloc\n",
    "\n",
    "import pandas as pd\n",
    "\n",
    "# Creating a sample DataFrame\n",
    "data = {'Name': ['Alice', 'Bob', 'Charlie'],\n",
    "        'Age': [25, 30, 35],\n",
    "        'City': ['New York', 'Los Angeles', 'Chicago']}\n",
    "df = pd.DataFrame(data)\n",
    "\n",
    "# Using iloc to access rows and columns by position\n",
    "print(df.iloc[0])  \n",
    "print(df.iloc[:, 0])  \n",
    "print(df.iloc[1:3, [0, 2]]) "
   ]
  },
  {
   "cell_type": "code",
   "execution_count": 14,
   "metadata": {},
   "outputs": [
    {
     "name": "stdout",
     "output_type": "stream",
     "text": [
      "[0.71912284 1.76401657 2.70965883 ... 4.46877017 1.18751119 2.00940251]\n"
     ]
    }
   ],
   "source": [
    "\n",
    "#Q4 What is the difference between supervised and unsupervised learning?\n",
    "\n",
    "# Supervised \n",
    "from sklearn.model_selection import train_test_split\n",
    "from sklearn.linear_model import LinearRegression\n",
    "from sklearn.datasets import fetch_california_housing\n",
    "\n",
    "data = fetch_california_housing()\n",
    "X = data.data\n",
    "y = data.target\n",
    "\n",
    "# Split dataset into training and test sets\n",
    "X_train, X_test, y_train, y_test = train_test_split(X, y, test_size=0.2, random_state=42)\n",
    "\n",
    "# Train the model\n",
    "model = LinearRegression()\n",
    "model.fit(X_train, y_train)\n",
    "\n",
    "# Make predictions\n",
    "predictions = model.predict(X_test)\n",
    "\n",
    "# Display predictions\n",
    "print(predictions)\n"
   ]
  },
  {
   "cell_type": "code",
   "execution_count": 17,
   "metadata": {},
   "outputs": [
    {
     "name": "stdout",
     "output_type": "stream",
     "text": [
      "[1 1 1 1 1 1 1 1 1 1 1 1 1 1 1 1 1 1 1 1 1 1 1 1 1 1 1 1 1 1 1 1 1 1 1 1 1\n",
      " 1 1 1 1 1 1 1 1 1 1 1 1 1 0 2 0 2 2 2 2 2 2 2 2 2 2 2 2 2 2 2 2 2 2 2 2 2\n",
      " 2 2 2 0 2 2 2 2 2 2 2 2 2 2 2 2 2 2 2 2 2 2 2 2 2 2 0 2 0 0 0 0 2 0 0 0 0\n",
      " 0 0 2 2 0 0 0 0 2 0 2 0 2 0 0 2 2 0 0 0 0 0 2 0 0 0 0 2 0 0 0 2 0 0 0 2 0\n",
      " 0 2]\n"
     ]
    }
   ],
   "source": [
    "\n",
    "# Unsupervised \n",
    "from sklearn.cluster import KMeans\n",
    "from sklearn.datasets import load_iris\n",
    "import pandas as pd\n",
    "\n",
    "# Load dataset\n",
    "data = load_iris()\n",
    "X = pd.DataFrame(data.data, columns=data.feature_names)\n",
    "\n",
    "# Train the model\n",
    "model = KMeans(n_clusters=3, random_state=42)\n",
    "model.fit(X)\n",
    "\n",
    "# Get the cluster labels\n",
    "labels = model.labels_\n",
    "\n",
    "# Display the cluster labels\n",
    "print(labels)\n"
   ]
  },
  {
   "cell_type": "code",
   "execution_count": 1,
   "metadata": {},
   "outputs": [
    {
     "data": {
      "image/png": "[encoded data removed]",
      "text/plain": [
       "<Figure size 640x480 with 1 Axes>"
      ]
     },
     "metadata": {},
     "output_type": "display_data"
    }
   ],
   "source": [
    "#Q16  Define AUC-ROC curve.\n",
    "import matplotlib.pyplot as plt\n",
    "from sklearn.metrics import roc_curve, roc_auc_score\n",
    "\n",
    "# Example true labels and predicted scores\n",
    "y_true = [0, 0, 1, 1]\n",
    "y_scores = [0.1, 0.4, 0.35, 0.8]\n",
    "\n",
    "# Calculate ROC curve\n",
    "fpr, tpr, thresholds = roc_curve(y_true, y_scores)\n",
    "\n",
    "# Calculate AUC\n",
    "auc = roc_auc_score(y_true, y_scores)\n",
    "\n",
    "# Plot ROC curve\n",
    "plt.plot(fpr, tpr, label=f'AUC = {auc:.2f}')\n",
    "plt.plot([0, 1], [0, 1], linestyle='--')  # Diagonal line for random guessing\n",
    "plt.xlabel('False Positive Rate')\n",
    "plt.ylabel('True Positive Rate')\n",
    "plt.title('ROC Curve')\n",
    "plt.legend()\n",
    "plt.show()"
   ]
  },
  {
   "cell_type": "code",
   "execution_count": 2,
   "metadata": {},
   "outputs": [
    {
     "name": "stdout",
     "output_type": "stream",
     "text": [
      "Accuracy: 100.00%\n"
     ]
    }
   ],
   "source": [
    "# Q17.Explain the k-nearest neighbors algorithm.\n",
    "import numpy as np\n",
    "from sklearn.datasets import load_iris\n",
    "from sklearn.model_selection import train_test_split\n",
    "from sklearn.preprocessing import StandardScaler\n",
    "from sklearn.neighbors import KNeighborsClassifier\n",
    "from sklearn.metrics import accuracy_score\n",
    "\n",
    "# Load dataset\n",
    "iris = load_iris()\n",
    "X, y = iris.data, iris.target\n",
    "\n",
    "# Split into training and test sets\n",
    "X_train, X_test, y_train, y_test = train_test_split(X, y, test_size=0.3, random_state=42)\n",
    "\n",
    "# Feature scaling\n",
    "scaler = StandardScaler()\n",
    "X_train = scaler.fit_transform(X_train)\n",
    "X_test = scaler.transform(X_test)\n",
    "\n",
    "# Initialize k-NN classifier with k=3\n",
    "knn = KNeighborsClassifier(n_neighbors=3)\n",
    "\n",
    "# Train the classifier\n",
    "knn.fit(X_train, y_train)\n",
    "\n",
    "# Predict on test set\n",
    "y_pred = knn.predict(X_test)\n",
    "\n",
    "# Evaluate the classifier\n",
    "accuracy = accuracy_score(y_test, y_pred)\n",
    "print(f'Accuracy: {accuracy * 100:.2f}%')"
   ]
  },
  {
   "cell_type": "code",
   "execution_count": 4,
   "metadata": {},
   "outputs": [
    {
     "name": "stdout",
     "output_type": "stream",
     "text": [
      "Accuracy: 100.00%\n"
     ]
    }
   ],
   "source": [
    "#Q18. Explain the basic concept of a Support Vector Machine (SVM)\n",
    "\n",
    "import numpy as np\n",
    "from sklearn import datasets\n",
    "from sklearn.model_selection import train_test_split\n",
    "from sklearn.preprocessing import StandardScaler\n",
    "from sklearn.svm import SVC\n",
    "from sklearn.metrics import accuracy_score\n",
    "iris = datasets.load_iris()\n",
    "X, y = iris.data, iris.target\n",
    "# Only consider two classes for simplicity\n",
    "X = X[y != 2]\n",
    "y = y[y != 2]\n",
    "\n",
    "# Split into training and test sets\n",
    "X_train, X_test, y_train, y_test = train_test_split(X, y, test_size=0.3, random_state=42)\n",
    "\n",
    "# Feature scaling\n",
    "scaler = StandardScaler()\n",
    "X_train = scaler.fit_transform(X_train)\n",
    "X_test = scaler.transform(X_test)\n",
    "\n",
    "# Initialize SVM with a linear kernel\n",
    "svm = SVC(kernel='linear', C=1)\n",
    "# Train the classifier\n",
    "svm.fit(X_train, y_train)\n",
    "# Predict on test set\n",
    "y_pred = svm.predict(X_test)\n",
    "# Evaluate the classifier\n",
    "accuracy = accuracy_score(y_test, y_pred)\n",
    "print(f'Accuracy: {accuracy * 100:.2f}%')"
   ]
  },
  {
   "cell_type": "code",
   "execution_count": 7,
   "metadata": {},
   "outputs": [
    {
     "name": "stdout",
     "output_type": "stream",
     "text": [
      "Kernel: linear, Accuracy: 100.00%\n",
      "Kernel: poly, Accuracy: 100.00%\n",
      "Kernel: rbf, Accuracy: 100.00%\n",
      "Kernel: sigmoid, Accuracy: 100.00%\n"
     ]
    }
   ],
   "source": [
    "#Q19. What are the different types of kernels used in SVM and when would you use each?\n",
    "\n",
    "import numpy as np\n",
    "from sklearn import datasets\n",
    "from sklearn.model_selection import train_test_split\n",
    "from sklearn.preprocessing import StandardScaler\n",
    "from sklearn.svm import SVC\n",
    "from sklearn.metrics import accuracy_score\n",
    "\n",
    "# Load dataset\n",
    "iris = datasets.load_iris()\n",
    "X, y = iris.data, iris.target\n",
    "\n",
    "# Only consider two classes for simplicity\n",
    "X = X[y != 2]\n",
    "y = y[y != 2]\n",
    "\n",
    "# Split into training and test sets\n",
    "X_train, X_test, y_train, y_test = train_test_split(X, y, test_size=0.3, random_state=42)\n",
    "\n",
    "# Feature scaling\n",
    "scaler = StandardScaler()\n",
    "X_train = scaler.fit_transform(X_train)\n",
    "X_test = scaler.transform(X_test)\n",
    "\n",
    "# Define kernels\n",
    "kernels = ['linear', 'poly', 'rbf', 'sigmoid']\n",
    "\n",
    "for kernel in kernels:\n",
    "    if kernel == 'poly':\n",
    "        svm = SVC(kernel=kernel, degree=3, C=1)\n",
    "    elif kernel == 'rbf':\n",
    "        svm = SVC(kernel=kernel, gamma='scale', C=1)\n",
    "    else:\n",
    "        svm = SVC(kernel=kernel, C=1)\n",
    "    \n",
    "    svm.fit(X_train, y_train)\n",
    "    y_pred = svm.predict(X_test)\n",
    "    accuracy = accuracy_score(y_test, y_pred)\n",
    "    print(f'Kernel: {kernel}, Accuracy: {accuracy * 100:.2f}%')\n"
   ]
  },
  {
   "cell_type": "code",
   "execution_count": 8,
   "metadata": {},
   "outputs": [
    {
     "data": {
      "image/png": "[encoded data removed]",
      "text/plain": [
       "<Figure size 640x480 with 1 Axes>"
      ]
     },
     "metadata": {},
     "output_type": "display_data"
    }
   ],
   "source": [
    "#Q20. What is the hyperplane in SVM and how is it determined?\n",
    "\n",
    "import numpy as np\n",
    "import matplotlib.pyplot as plt\n",
    "from sklearn import datasets\n",
    "from sklearn.svm import SVC\n",
    "\n",
    "# Load dataset\n",
    "iris = datasets.load_iris()\n",
    "X = iris.data[:, :2]  # Use only the first two features for visualization\n",
    "y = (iris.target != 0) * 1  # Binary classification (setosa vs. non-setosa)\n",
    "\n",
    "# Train SVM with a linear kernel\n",
    "svm = SVC(kernel='linear', C=1)\n",
    "svm.fit(X, y)\n",
    "\n",
    "# Get the separating hyperplane\n",
    "w = svm.coef_[0]\n",
    "b = svm.intercept_[0]\n",
    "x0 = np.linspace(min(X[:, 0]), max(X[:, 0]), 200)\n",
    "decision_boundary = -(w[0] * x0 + b) / w[1]\n",
    "\n",
    "# Plot data points and decision boundary\n",
    "plt.scatter(X[:, 0], X[:, 1], c=y, cmap='coolwarm', edgecolors='k')\n",
    "plt.plot(x0, decision_boundary, 'k-', linewidth=2)\n",
    "plt.fill_between(x0, decision_boundary - 1/w[1], decision_boundary + 1/w[1], color='gray', alpha=0.2)\n",
    "plt.xlabel('Feature 1')\n",
    "plt.ylabel('Feature 2')\n",
    "plt.title('SVM with Linear Kernel')\n",
    "plt.show()\n"
   ]
  },
  {
   "cell_type": "code",
   "execution_count": 9,
   "metadata": {},
   "outputs": [
    {
     "name": "stdout",
     "output_type": "stream",
     "text": [
      "Accuracy: 100.00%\n"
     ]
    },
    {
     "data": {
      "image/png": "[encoded data removed]",
      "text/plain": [
       "<Figure size 1200x800 with 1 Axes>"
      ]
     },
     "metadata": {},
     "output_type": "display_data"
    }
   ],
   "source": [
    "\n",
    "# Q23. Describe the process of constructing a decision tree.\n",
    "\n",
    "# from sklearn import datasets\n",
    "from sklearn.tree import DecisionTreeClassifier\n",
    "from sklearn.model_selection import train_test_split\n",
    "from sklearn.metrics import accuracy_score\n",
    "import matplotlib.pyplot as plt\n",
    "from sklearn import tree\n",
    "\n",
    "# Load dataset\n",
    "iris = datasets.load_iris()\n",
    "X, y = iris.data, iris.target\n",
    "\n",
    "# Split into training and test sets\n",
    "X_train, X_test, y_train, y_test = train_test_split(X, y, test_size=0.3, random_state=42)\n",
    "\n",
    "# Create and train the decision tree classifier\n",
    "clf = DecisionTreeClassifier(criterion='entropy', max_depth=3)\n",
    "clf.fit(X_train, y_train)\n",
    "\n",
    "# Predict on the test set\n",
    "y_pred = clf.predict(X_test)\n",
    "accuracy = accuracy_score(y_test, y_pred)\n",
    "print(f'Accuracy: {accuracy * 100:.2f}%')\n",
    "\n",
    "# Plot the decision tree\n",
    "plt.figure(figsize=(12,8))\n",
    "tree.plot_tree(clf, filled=True, feature_names=iris.feature_names, class_names=iris.target_names)\n",
    "plt.show()\n",
    "\n"
   ]
  },
  {
   "cell_type": "code",
   "execution_count": 15,
   "metadata": {},
   "outputs": [
    {
     "name": "stdout",
     "output_type": "stream",
     "text": [
      "[9.9793422e-01 4.7915199e-04 5.2352564e-04 9.9982160e-01 9.9990118e-01\n",
      " 2.8774265e-04 4.4957208e-04 4.7386114e-02 3.0304742e-01 9.9944824e-01]\n"
     ]
    }
   ],
   "source": [
    "\n",
    "# Q41. How does XGBoost handle missing values.\n",
    "\n",
    "import xgboost as xgb\n",
    "import numpy as np\n",
    "import pandas as pd\n",
    "from sklearn.datasets import load_breast_cancer\n",
    "from sklearn.model_selection import train_test_split\n",
    "\n",
    "# Load sample data\n",
    "data = load_breast_cancer()\n",
    "X = pd.DataFrame(data.data, columns=data.feature_names)\n",
    "y = data.target\n",
    "\n",
    "X.iloc[::10, 0] = np.nan  \n",
    "\n",
    "# Split the dataset\n",
    "X_train, X_test, y_train, y_test = train_test_split(X, y, test_size=0.2, random_state=42)\n",
    "\n",
    "# Create DMatrix\n",
    "dtrain = xgb.DMatrix(X_train, label=y_train)\n",
    "dtest = xgb.DMatrix(X_test)\n",
    "\n",
    "# Define parameters\n",
    "params = {\n",
    "    'objective': 'binary:logistic',\n",
    "    'eval_metric': 'logloss'\n",
    "}\n",
    "\n",
    "# Train the model\n",
    "bst = xgb.train(params, dtrain, num_boost_round=100)\n",
    "\n",
    "# Predict using the model\n",
    "predictions = bst.predict(dtest)\n",
    "\n",
    "# Display the first 10 predictions\n",
    "print(predictions[:10])\n",
    "\n"
   ]
  },
  {
   "cell_type": "code",
   "execution_count": 17,
   "metadata": {},
   "outputs": [
    {
     "name": "stdout",
     "output_type": "stream",
     "text": [
      "[0.99171925 0.00179112 0.00322505 0.998944   0.9992041  0.00181094\n",
      " 0.0019406  0.06490569 0.19359815 0.9980106 ]\n"
     ]
    }
   ],
   "source": [
    "#Q41 What are the key hyperparameters in XGBoost and how do they affect model performance\n",
    "\n",
    "import xgboost as xgb\n",
    "from sklearn.model_selection import train_test_split\n",
    "from sklearn.datasets import load_breast_cancer\n",
    "\n",
    "# Load data\n",
    "data = load_breast_cancer()\n",
    "X_train, X_test, y_train, y_test = train_test_split(data.data, data.target, test_size=0.2, random_state=42)\n",
    "\n",
    "# Create DMatrix\n",
    "dtrain = xgb.DMatrix(X_train, label=y_train)\n",
    "dtest = xgb.DMatrix(X_test, label=y_test)\n",
    "\n",
    "# Define parameters\n",
    "params = {\n",
    "    'objective': 'binary:logistic',\n",
    "    'eval_metric': 'logloss',\n",
    "    'max_depth': 6,\n",
    "    'learning_rate': 0.1,\n",
    "    'subsample': 0.8,\n",
    "    'colsample_bytree': 0.8,\n",
    "    'gamma': 0.1,\n",
    "    'lambda': 1,\n",
    "    'alpha': 0\n",
    "}\n",
    "\n",
    "# Train the model\n",
    "num_boost_round = 100\n",
    "bst = xgb.train(params, dtrain, num_boost_round=num_boost_round)\n",
    "\n",
    "# Predict using the model\n",
    "predictions = bst.predict(dtest)\n",
    "\n",
    "# Display the first 10 predictions\n",
    "print(predictions[:10])\n"
   ]
  }
 ],
 "metadata": {
  "kernelspec": {
   "display_name": "tast",
   "language": "python",
   "name": "python3"
  },
  "language_info": {
   "codemirror_mode": {
    "name": "ipython",
    "version": 3
   },
   "file_extension": ".py",
   "mimetype": "text/x-python",
   "name": "python",
   "nbconvert_exporter": "python",
   "pygments_lexer": "ipython3",
   "version": "3.11.0"
  }
 },
 "nbformat": 4,
 "nbformat_minor": 2
}
